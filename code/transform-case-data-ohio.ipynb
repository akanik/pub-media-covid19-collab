{
 "cells": [
  {
   "cell_type": "code",
   "execution_count": null,
   "metadata": {},
   "outputs": [],
   "source": [
    "import pandas as pd\n",
    "from datetime import date, timedelta\n",
    "import json\n",
    "\n",
    "pd.set_option('display.expand_frame_repr', False)\n",
    "pd.set_option('display.max_columns', None)\n",
    "pd.set_option('display.max_rows', None)"
   ]
  },
  {
   "cell_type": "code",
   "execution_count": null,
   "metadata": {},
   "outputs": [],
   "source": [
    "state = 'Ohio'\n",
    "state_fips = '39'\n",
    "today = str(date.today())\n",
    "print(\"Today's date:\", today)\n",
    "\n",
    "cnty_join = pd.read_csv('../data/tl_2019_us_county.csv',dtype={'STATEFP':str,'COUNTYFP':str,'GEOID':str})\n",
    "cnty_join = cnty_join.loc[cnty_join['STATEFP'] == state_fips]\n",
    "cnty_join = cnty_join[['STATEFP','GEOID','NAMELSAD']]\n",
    "\n",
    "cnty_join['NAMELSAD'] = cnty_join['NAMELSAD'].str.replace(' County','')\n",
    "\n",
    "case_data = pd.read_csv('../../data/case-data/oh/20200410-ohio-COVIDSummaryData.csv',thousands=',')\n",
    "state_cases = case_data\n",
    "state_cases['date'] = pd.to_datetime(state_cases['Onset Date'], format='%m/%d/%Y', errors='coerce')\n",
    "state_cases = state_cases.merge(cnty_join,how='left',left_on='County',right_on='NAMELSAD')\n",
    "\n",
    "cases_by_day = state_cases.groupby('date').agg({'Case Count':'sum','Death Count':'sum'}).reset_index()\n",
    "most_recent = cases_by_day.sort_values('date',ascending=False).iloc[0]\n",
    "most_recent_date = most_recent['date']\n",
    "\n",
    "print('Total cases reported for',state,':',cases_by_day['Case Count'].sum())\n",
    "print('Total deaths reported for',state,':',cases_by_day['Death Count'].sum())\n",
    "print('Most recent case confirmation date:',most_recent_date)\n",
    "display(cases_by_day)"
   ]
  },
  {
   "cell_type": "markdown",
   "metadata": {},
   "source": [
    "## County + day dataset\n",
    "\n",
    "In addition to the above cases per county per day, we need to record county + days that have no cases or deaths so we can get a good time series."
   ]
  },
  {
   "cell_type": "code",
   "execution_count": null,
   "metadata": {},
   "outputs": [],
   "source": [
    "covid_start = date(2020, 1, 21)   # start date\n",
    "delta = most_recent_date.date() - covid_start       # as timedelta\n",
    "delta\n",
    "\n",
    "days = []\n",
    "for i in range(delta.days + 1):\n",
    "    day = covid_start + timedelta(days=i)\n",
    "    days.append(day)\n",
    "    \n",
    "fullDateTime = pd.DataFrame(columns=['date','fips','county'])\n",
    "for day in days:\n",
    "    for index, row in cnty_join.iterrows():\n",
    "        fullDateTime = fullDateTime.append({'date': day, \n",
    "                                            'fips': row['GEOID'], \n",
    "                                            'county': row['NAMELSAD']}, ignore_index=True)\n",
    "\n",
    "fullDateTime['date'] = pd.to_datetime(fullDateTime['date'], format='%Y-%m-%d', errors='coerce')\n",
    "\n",
    "fullDateTime['date_str'] = fullDateTime['date'].dt.strftime('%Y-%m-%d')\n",
    "fullDateTime['join_field'] = fullDateTime['date_str'] + '-' + fullDateTime['fips']\n",
    "\n",
    "by_county = state_cases.groupby(['GEOID','date']).agg({'Case Count':'sum','Death Count':'sum'}).reset_index()\n",
    "by_county['date_str'] = by_county['date'].dt.strftime('%Y-%m-%d')\n",
    "by_county['join_field'] = by_county['date_str'] + '-' + by_county['GEOID']\n",
    "\n",
    "fullDT_joined = fullDateTime.merge(by_county,how='left',on='join_field')\n",
    "fullDT_joined = fullDT_joined.fillna(0)\n",
    "\n",
    "#do this after you merge to ery day, ery county\n",
    "fullDT_joined = fullDT_joined.sort_values(['fips','date_x'])\n",
    "fullDT_joined['cases'] = fullDT_joined.groupby('fips')['Case Count'].transform(pd.Series.cumsum)\n",
    "fullDT_joined['deaths'] = fullDT_joined.groupby('fips')['Death Count'].transform(pd.Series.cumsum)\n",
    "\n",
    "fullDT_joined = fullDT_joined[['date_x','fips','county','cases','deaths']]\n",
    "fullDT_joined.rename(columns={'date_x':'date'}, inplace=True)\n",
    "\n",
    "fullDT_joined.to_csv('../app/assets/data/'+str(today)+'-'+state+'-export.csv',index=False)"
   ]
  },
  {
   "cell_type": "code",
   "execution_count": null,
   "metadata": {},
   "outputs": [],
   "source": [
    "fullDT_joined.loc[fullDT_joined['date'] == most_recent_date]['cases'].sum()"
   ]
  },
  {
   "cell_type": "code",
   "execution_count": null,
   "metadata": {},
   "outputs": [],
   "source": [
    "fullDT_joined.loc[fullDT_joined['date'] == most_recent_date]['deaths'].sum()"
   ]
  },
  {
   "cell_type": "code",
   "execution_count": null,
   "metadata": {},
   "outputs": [],
   "source": []
  }
 ],
 "metadata": {
  "kernelspec": {
   "display_name": "Python 3",
   "language": "python",
   "name": "python3"
  },
  "language_info": {
   "codemirror_mode": {
    "name": "ipython",
    "version": 3
   },
   "file_extension": ".py",
   "mimetype": "text/x-python",
   "name": "python",
   "nbconvert_exporter": "python",
   "pygments_lexer": "ipython3",
   "version": "3.7.4"
  }
 },
 "nbformat": 4,
 "nbformat_minor": 4
}
