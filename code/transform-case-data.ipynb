{
 "cells": [
  {
   "cell_type": "code",
   "execution_count": 1,
   "metadata": {},
   "outputs": [],
   "source": [
    "import pandas as pd\n",
    "from datetime import date, timedelta\n",
    "import json\n",
    "\n",
    "pd.set_option('display.expand_frame_repr', False)\n",
    "pd.set_option('display.max_columns', None)\n",
    "pd.set_option('display.max_rows', None)"
   ]
  },
  {
   "cell_type": "code",
   "execution_count": null,
   "metadata": {},
   "outputs": [],
   "source": [
    "death_words = ['DEATH','DEAD','DIED']\n",
    "\n",
    "def clean_outcome(row):\n",
    "    if row['outcome'] in death_words:\n",
    "        return 'DEATH'\n",
    "    else:\n",
    "        return 'POSITIVE'"
   ]
  },
  {
   "cell_type": "code",
   "execution_count": null,
   "metadata": {},
   "outputs": [],
   "source": [
    "cnty_join = pd.read_csv('../data/tl_2019_us_county.csv',dtype={'STATEFP':str,'COUNTYFP':str,'GEOID':str})\n",
    "cnty_join = cnty_join[['STATEFP','COUNTYFP','GEOID','NAMELSAD']]\n",
    "\n",
    "state = 'California'\n",
    "state_fips = '06'\n",
    "today = str(date.today())\n",
    "print(\"Today's date:\", today)\n",
    "\n",
    "case_data = pd.read_csv('../data/case-data/outside_Hubei.data.19032020T011105.csv')\n",
    "us_cases = case_data.loc[case_data['country'] == 'United States']\n",
    "state_cases = us_cases.loc[us_cases['province'] == state]\n",
    "state_cases['date_confirm_clean'] = pd.to_datetime(state_cases['date_confirmation'], format='%d.%m.%Y', errors='ignore')\n",
    "\n",
    "state_cases['outcome'] = state_cases['outcome'].str.upper()\n",
    "state_cases['outcome_clean'] = state_cases.apply(lambda row: clean_outcome(row), axis=1)\n",
    "\n",
    "#join county fips\n",
    "cnty_join = cnty_join.loc[cnty_join['STATEFP'] == state_fips]\n",
    "cnty_join = cnty_join[['NAMELSAD','COUNTYFP']]\n",
    "cnty_join_dict = dict(zip(cnty_join.NAMELSAD, cnty_join.COUNTYFP))     \n",
    "state_cases['fips'] = state_cases['city'].map(cnty_join_dict)\n",
    "\n",
    "#pivot on county, agg deaths positive cases\n",
    "by_county = pd.pivot_table(state_cases, values='ID', index=['province','fips','city','date_confirm_clean'],\n",
    "                           columns=['outcome_clean'], aggfunc='count')\n",
    "\n",
    "print('Total cases reported for',state,':',len(state_cases))\n",
    "print('Total deaths reported for',state,':',len(state_cases.loc[state_cases['outcome_clean'] == 'DEATH']))\n",
    "print('Most recent case confirmation date:',state_cases.date_confirm_clean.max())\n",
    "display(by_county)"
   ]
  },
  {
   "cell_type": "code",
   "execution_count": null,
   "metadata": {},
   "outputs": [],
   "source": [
    "state_cases.head()"
   ]
  },
  {
   "cell_type": "markdown",
   "metadata": {},
   "source": [
    "## County + day dataset\n",
    "\n",
    "In addition to the above cases per county per day, we need to record county + days that have no cases or deaths so we can get a good time series."
   ]
  },
  {
   "cell_type": "code",
   "execution_count": null,
   "metadata": {},
   "outputs": [],
   "source": [
    "covid_start = date(2020, 1, 21)   # start date\n",
    "today = date.today()   # end date\n",
    "delta = today - covid_start       # as timedelta\n",
    "\n",
    "days = []\n",
    "for i in range(delta.days + 1):\n",
    "    day = covid_start + timedelta(days=i)\n",
    "    days.append(day)\n",
    "    \n",
    "fullDateTime = pd.DataFrame(columns=['date','fips','county'])\n",
    "for day in days:\n",
    "    for index, row in cnty_join.iterrows():\n",
    "        fullDateTime = fullDateTime.append({'date': day, \n",
    "                                            'fips': row['COUNTYFP'], \n",
    "                                            'county': row['NAMELSAD']}, ignore_index=True)\n",
    "        \n",
    "fullDateTime['date_confirm_clean'] = pd.to_datetime(fullDateTime['date'], format='%Y-%m-%d', errors='ignore')\n",
    "fullDateTime['date_str'] = fullDateTime['date_confirm_clean'].dt.strftime('%Y-%m-%d')\n",
    "fullDateTime['join_field'] = fullDateTime['date_str'] + '-' + fullDateTime['fips']\n",
    "\n",
    "by_county_min = by_county.reset_index()\n",
    "by_county_min['date_str'] = by_county_min['date_confirm_clean'].dt.strftime('%Y-%m-%d')\n",
    "by_county_min['join_field'] = by_county_min['date_str'] + '-' + by_county_min['fips']\n",
    "\n",
    "if 'DEATH' in by_county_min.columns:\n",
    "    keep_cols = ['date', 'fips_x', 'county','POSITIVE','DEATH']\n",
    "else:\n",
    "    keep_cols = ['date', 'fips_x', 'county','POSITIVE']\n",
    "    \n",
    "fullDT_joined = fullDateTime.merge(by_county_min,how='left',on='join_field')\n",
    "fullDT_joined = fullDT_joined.fillna(0)\n",
    "fullDT_joined = fullDT_joined[keep_cols]\n",
    "\n",
    "fullDT_joined.to_csv('../app/assets/data/'+str(today)+'-'+state+'-export.csv',index=False)"
   ]
  },
  {
   "cell_type": "code",
   "execution_count": null,
   "metadata": {},
   "outputs": [],
   "source": [
    "fullDT_joined.loc[fullDT_joined['POSITIVE']>0]"
   ]
  },
  {
   "cell_type": "code",
   "execution_count": null,
   "metadata": {},
   "outputs": [],
   "source": [
    "fullDT_joined.POSITIVE.sum()"
   ]
  },
  {
   "cell_type": "code",
   "execution_count": null,
   "metadata": {},
   "outputs": [],
   "source": []
  }
 ],
 "metadata": {
  "kernelspec": {
   "display_name": "Python 3",
   "language": "python",
   "name": "python3"
  },
  "language_info": {
   "codemirror_mode": {
    "name": "ipython",
    "version": 3
   },
   "file_extension": ".py",
   "mimetype": "text/x-python",
   "name": "python",
   "nbconvert_exporter": "python",
   "pygments_lexer": "ipython3",
   "version": "3.7.4"
  }
 },
 "nbformat": 4,
 "nbformat_minor": 4
}
