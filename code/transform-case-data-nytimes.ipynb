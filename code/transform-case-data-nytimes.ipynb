{
 "cells": [
  {
   "cell_type": "code",
   "execution_count": 1,
   "metadata": {},
   "outputs": [],
   "source": [
    "import pandas as pd\n",
    "from datetime import date, timedelta\n",
    "import json\n",
    "\n",
    "pd.set_option('display.expand_frame_repr', False)\n",
    "pd.set_option('display.max_columns', None)\n",
    "pd.set_option('display.max_rows', None)"
   ]
  },
  {
   "cell_type": "code",
   "execution_count": 2,
   "metadata": {},
   "outputs": [
    {
     "name": "stdout",
     "output_type": "stream",
     "text": [
      "Today's date: 2020-03-31\n",
      "Total cases reported for West Virginia : 145\n",
      "Total deaths reported for West Virginia : 1\n",
      "Most recent case confirmation date: 2020-03-30 00:00:00\n"
     ]
    },
    {
     "name": "stderr",
     "output_type": "stream",
     "text": [
      "/Users/akanik/.virtualenvs/covid19/lib/python3.7/site-packages/ipykernel_launcher.py:13: SettingWithCopyWarning: \n",
      "A value is trying to be set on a copy of a slice from a DataFrame.\n",
      "Try using .loc[row_indexer,col_indexer] = value instead\n",
      "\n",
      "See the caveats in the documentation: https://pandas.pydata.org/pandas-docs/stable/user_guide/indexing.html#returning-a-view-versus-a-copy\n",
      "  del sys.path[0]\n"
     ]
    },
    {
     "data": {
      "text/html": [
       "<div>\n",
       "<style scoped>\n",
       "    .dataframe tbody tr th:only-of-type {\n",
       "        vertical-align: middle;\n",
       "    }\n",
       "\n",
       "    .dataframe tbody tr th {\n",
       "        vertical-align: top;\n",
       "    }\n",
       "\n",
       "    .dataframe thead th {\n",
       "        text-align: right;\n",
       "    }\n",
       "</style>\n",
       "<table border=\"1\" class=\"dataframe\">\n",
       "  <thead>\n",
       "    <tr style=\"text-align: right;\">\n",
       "      <th></th>\n",
       "      <th>date</th>\n",
       "      <th>cases</th>\n",
       "      <th>deaths</th>\n",
       "    </tr>\n",
       "  </thead>\n",
       "  <tbody>\n",
       "    <tr>\n",
       "      <th>0</th>\n",
       "      <td>2020-03-17</td>\n",
       "      <td>1</td>\n",
       "      <td>0</td>\n",
       "    </tr>\n",
       "    <tr>\n",
       "      <th>1</th>\n",
       "      <td>2020-03-18</td>\n",
       "      <td>2</td>\n",
       "      <td>0</td>\n",
       "    </tr>\n",
       "    <tr>\n",
       "      <th>2</th>\n",
       "      <td>2020-03-19</td>\n",
       "      <td>5</td>\n",
       "      <td>0</td>\n",
       "    </tr>\n",
       "    <tr>\n",
       "      <th>3</th>\n",
       "      <td>2020-03-20</td>\n",
       "      <td>8</td>\n",
       "      <td>0</td>\n",
       "    </tr>\n",
       "    <tr>\n",
       "      <th>4</th>\n",
       "      <td>2020-03-21</td>\n",
       "      <td>12</td>\n",
       "      <td>0</td>\n",
       "    </tr>\n",
       "    <tr>\n",
       "      <th>5</th>\n",
       "      <td>2020-03-22</td>\n",
       "      <td>16</td>\n",
       "      <td>0</td>\n",
       "    </tr>\n",
       "    <tr>\n",
       "      <th>6</th>\n",
       "      <td>2020-03-23</td>\n",
       "      <td>16</td>\n",
       "      <td>0</td>\n",
       "    </tr>\n",
       "    <tr>\n",
       "      <th>7</th>\n",
       "      <td>2020-03-24</td>\n",
       "      <td>39</td>\n",
       "      <td>0</td>\n",
       "    </tr>\n",
       "    <tr>\n",
       "      <th>8</th>\n",
       "      <td>2020-03-25</td>\n",
       "      <td>51</td>\n",
       "      <td>0</td>\n",
       "    </tr>\n",
       "    <tr>\n",
       "      <th>9</th>\n",
       "      <td>2020-03-26</td>\n",
       "      <td>76</td>\n",
       "      <td>0</td>\n",
       "    </tr>\n",
       "    <tr>\n",
       "      <th>10</th>\n",
       "      <td>2020-03-27</td>\n",
       "      <td>96</td>\n",
       "      <td>0</td>\n",
       "    </tr>\n",
       "    <tr>\n",
       "      <th>11</th>\n",
       "      <td>2020-03-28</td>\n",
       "      <td>113</td>\n",
       "      <td>0</td>\n",
       "    </tr>\n",
       "    <tr>\n",
       "      <th>12</th>\n",
       "      <td>2020-03-29</td>\n",
       "      <td>124</td>\n",
       "      <td>1</td>\n",
       "    </tr>\n",
       "    <tr>\n",
       "      <th>13</th>\n",
       "      <td>2020-03-30</td>\n",
       "      <td>145</td>\n",
       "      <td>1</td>\n",
       "    </tr>\n",
       "  </tbody>\n",
       "</table>\n",
       "</div>"
      ],
      "text/plain": [
       "         date  cases  deaths\n",
       "0  2020-03-17      1       0\n",
       "1  2020-03-18      2       0\n",
       "2  2020-03-19      5       0\n",
       "3  2020-03-20      8       0\n",
       "4  2020-03-21     12       0\n",
       "5  2020-03-22     16       0\n",
       "6  2020-03-23     16       0\n",
       "7  2020-03-24     39       0\n",
       "8  2020-03-25     51       0\n",
       "9  2020-03-26     76       0\n",
       "10 2020-03-27     96       0\n",
       "11 2020-03-28    113       0\n",
       "12 2020-03-29    124       1\n",
       "13 2020-03-30    145       1"
      ]
     },
     "metadata": {},
     "output_type": "display_data"
    }
   ],
   "source": [
    "state = 'West Virginia'\n",
    "state_slug = state.replace(' ','-')\n",
    "state_fips = '54'\n",
    "today = str(date.today())\n",
    "print(\"Today's date:\", today)\n",
    "\n",
    "cnty_join = pd.read_csv('../data/tl_2019_us_county.csv',dtype={'STATEFP':str,'COUNTYFP':str,'GEOID':str})\n",
    "cnty_join = cnty_join.loc[cnty_join['STATEFP'] == state_fips]\n",
    "cnty_join = cnty_join[['STATEFP','COUNTYFP','GEOID','NAMELSAD']]\n",
    "\n",
    "case_data = pd.read_csv('../../data/case-data/nytimes/20200330-nytime-us-counties.csv',dtype={'fips':str})\n",
    "state_cases = case_data.loc[case_data['state'] == state]\n",
    "state_cases['date'] = pd.to_datetime(state_cases['date'], format='%Y-%m-%d', errors='ignore')\n",
    "\n",
    "cases_by_day = state_cases.groupby('date').agg({'cases':'sum','deaths':'sum'}).reset_index()\n",
    "most_recent = cases_by_day.sort_values('date',ascending=False).iloc[0]\n",
    "most_recent_date = most_recent['date']\n",
    "\n",
    "print('Total cases reported for',state,':',most_recent['cases'])\n",
    "print('Total deaths reported for',state,':',most_recent['deaths'])\n",
    "print('Most recent case confirmation date:',most_recent_date)\n",
    "display(cases_by_day)"
   ]
  },
  {
   "cell_type": "markdown",
   "metadata": {},
   "source": [
    "## County + day dataset\n",
    "\n",
    "In addition to the above cases per county per day, we need to record county + days that have no cases or deaths so we can get a good time series."
   ]
  },
  {
   "cell_type": "code",
   "execution_count": 3,
   "metadata": {},
   "outputs": [
    {
     "name": "stderr",
     "output_type": "stream",
     "text": [
      "/Users/akanik/.virtualenvs/covid19/lib/python3.7/site-packages/ipykernel_launcher.py:23: SettingWithCopyWarning: \n",
      "A value is trying to be set on a copy of a slice from a DataFrame.\n",
      "Try using .loc[row_indexer,col_indexer] = value instead\n",
      "\n",
      "See the caveats in the documentation: https://pandas.pydata.org/pandas-docs/stable/user_guide/indexing.html#returning-a-view-versus-a-copy\n",
      "/Users/akanik/.virtualenvs/covid19/lib/python3.7/site-packages/ipykernel_launcher.py:24: SettingWithCopyWarning: \n",
      "A value is trying to be set on a copy of a slice from a DataFrame.\n",
      "Try using .loc[row_indexer,col_indexer] = value instead\n",
      "\n",
      "See the caveats in the documentation: https://pandas.pydata.org/pandas-docs/stable/user_guide/indexing.html#returning-a-view-versus-a-copy\n"
     ]
    }
   ],
   "source": [
    "covid_start = date(2020, 1, 21)   # start date\n",
    "delta = most_recent_date.date() - covid_start       # as timedelta\n",
    "delta\n",
    "\n",
    "days = []\n",
    "for i in range(delta.days + 1):\n",
    "    day = covid_start + timedelta(days=i)\n",
    "    days.append(day)\n",
    "    \n",
    "fullDateTime = pd.DataFrame(columns=['date','fips','county'])\n",
    "for day in days:\n",
    "    for index, row in cnty_join.iterrows():\n",
    "        fullDateTime = fullDateTime.append({'date': day, \n",
    "                                            'fips': row['GEOID'], \n",
    "                                            'county': row['NAMELSAD']}, ignore_index=True)\n",
    "\n",
    "fullDateTime['date'] = pd.to_datetime(fullDateTime['date'], format='%Y-%m-%d', errors='coerce')\n",
    "\n",
    "fullDateTime['date_str'] = fullDateTime['date'].dt.strftime('%Y-%m-%d')\n",
    "fullDateTime['join_field'] = fullDateTime['date_str'] + '-' + fullDateTime['fips']\n",
    "\n",
    "by_county = state_cases\n",
    "by_county['date_str'] = by_county['date'].dt.strftime('%Y-%m-%d')\n",
    "by_county['join_field'] = by_county['date_str'] + '-' + by_county['fips']\n",
    "    \n",
    "fullDT_joined = fullDateTime.merge(by_county,how='left',on='join_field')\n",
    "fullDT_joined = fullDT_joined.fillna(0)\n",
    "\n",
    "fullDT_joined = fullDT_joined[['date_x','fips_x','county_x','cases','deaths']]\n",
    "fullDT_joined.rename(columns={'date_x':'date','fips_x':'fips','county_x':'county'}, inplace=True)\n",
    "\n",
    "fullDT_joined.to_csv('../app/assets/data/'+str(today)+'-'+state_slug+'-export.csv',index=False)"
   ]
  },
  {
   "cell_type": "code",
   "execution_count": null,
   "metadata": {},
   "outputs": [],
   "source": [
    "by_county.loc[by_county['fips'].isna()]"
   ]
  },
  {
   "cell_type": "code",
   "execution_count": null,
   "metadata": {},
   "outputs": [],
   "source": [
    "by_county.groupby('date')['cases'].sum()"
   ]
  },
  {
   "cell_type": "code",
   "execution_count": null,
   "metadata": {},
   "outputs": [],
   "source": [
    "fullDT_joined.groupby('date')['cases'].sum()"
   ]
  },
  {
   "cell_type": "code",
   "execution_count": null,
   "metadata": {},
   "outputs": [],
   "source": []
  }
 ],
 "metadata": {
  "kernelspec": {
   "display_name": "Python 3",
   "language": "python",
   "name": "python3"
  },
  "language_info": {
   "codemirror_mode": {
    "name": "ipython",
    "version": 3
   },
   "file_extension": ".py",
   "mimetype": "text/x-python",
   "name": "python",
   "nbconvert_exporter": "python",
   "pygments_lexer": "ipython3",
   "version": "3.7.4"
  }
 },
 "nbformat": 4,
 "nbformat_minor": 4
}
